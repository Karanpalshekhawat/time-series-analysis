{
 "cells": [
  {
   "cell_type": "code",
   "execution_count": 4,
   "metadata": {},
   "outputs": [],
   "source": [
    "from random import gauss\n",
    "import matplotlib.pyplot as plt\n",
    "import numpy as np\n",
    "from arch import arch_model\n",
    "from statsmodels.graphics.tsaplots import plot_acf, plot_pacf"
   ]
  },
  {
   "cell_type": "markdown",
   "metadata": {},
   "source": [
    "## Garch(2,2) Model\n",
    "\n",
    "### First I will define first 2 elements of normal time series and volatility time series, and then create a simulated time series based on garch formula.\n",
    "\n",
    "### Reason to create garch data like this to check if we can get the same parameters back after fitting the garch model back to the simulated time series.\n",
    "\n",
    "### $ a_{t} = \\epsilon_{t} * \\sqrt {\\omega + \\alpha_{1}*a_{t-1}^{2} + \\alpha_{2}*a_{t-2}^{2} + \\beta_{1}*\\sigma_{t-1}^{2} + \\beta_{2}*\\sigma_{t-2}^{2}}$\n",
    "\n",
    "### What ever is under square root above is the volatility component\n",
    "\n",
    "### $ a_{0},  a_{1} \\sim \\mathcal{N}(0,1) $\n",
    "\n",
    "### $ \\sigma_{0}, \\sigma_{1} =$"
   ]
  },
  {
   "cell_type": "code",
   "execution_count": null,
   "metadata": {},
   "outputs": [],
   "source": []
  },
  {
   "cell_type": "code",
   "execution_count": null,
   "metadata": {},
   "outputs": [],
   "source": []
  }
 ],
 "metadata": {
  "kernelspec": {
   "display_name": "Python 3",
   "language": "python",
   "name": "python3"
  },
  "language_info": {
   "codemirror_mode": {
    "name": "ipython",
    "version": 3
   },
   "file_extension": ".py",
   "mimetype": "text/x-python",
   "name": "python",
   "nbconvert_exporter": "python",
   "pygments_lexer": "ipython3",
   "version": "3.7.3"
  }
 },
 "nbformat": 4,
 "nbformat_minor": 2
}
