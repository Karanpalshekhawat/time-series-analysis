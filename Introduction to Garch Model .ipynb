{
 "cells": [
  {
   "cell_type": "code",
   "execution_count": 17,
   "metadata": {},
   "outputs": [],
   "source": [
    "from random import gauss\n",
    "import matplotlib.pyplot as plt\n",
    "import numpy as np\n",
    "from arch import arch_model\n",
    "from statsmodels.graphics.tsaplots import plot_acf, plot_pacf"
   ]
  },
  {
   "cell_type": "markdown",
   "metadata": {},
   "source": [
    "## Garch(2,2) Model\n",
    "\n",
    "### First I will define first 2 elements of normal time series and volatility time series, and then create a simulated time series based on garch formula.\n",
    "\n",
    "### Reason to create garch data like this to check if we can get the same parameters back after fitting the garch model back to the simulated time series.\n",
    "\n",
    "### $ a_{t} = \\epsilon_{t} * \\sqrt {\\omega + \\alpha_{1}*a_{t-1}^{2} + \\alpha_{2}*a_{t-2}^{2} + \\beta_{1}*\\sigma_{t-1}^{2} + \\beta_{2}*\\sigma_{t-2}^{2}}$\n",
    "\n",
    "### What ever is under square root above is the volatility component\n",
    "\n",
    "### $ a_{0},  a_{1} \\sim \\mathcal{N}(0,1) $\n",
    "\n",
    "### $ \\sigma_{0}, \\sigma_{1} = 1, 1$\n",
    "\n",
    "### $ \\epsilon_{t} \\sim \\mathcal{N}(0,1)$"
   ]
  },
  {
   "cell_type": "code",
   "execution_count": 23,
   "metadata": {},
   "outputs": [],
   "source": [
    "\"\"\"dataset creation based on above conditions\"\"\"\n",
    "\n",
    "n = 1000\n",
    "\n",
    "\"\"\"These are just random numbers\"\"\"\n",
    "omega = 0.7\n",
    "\n",
    "alpha_1 = 0.1\n",
    "alpha_2 = 0.2\n",
    "\n",
    "beta_1 = 0.23\n",
    "beta_2 = 0.35"
   ]
  },
  {
   "cell_type": "code",
   "execution_count": 24,
   "metadata": {},
   "outputs": [],
   "source": [
    "\"\"\"Both time series and it's volatility time series\"\"\"\n",
    "\n",
    "time_series = [gauss(0,1), gauss(0,1)]\n",
    "vol_time_series = [1, 1]"
   ]
  },
  {
   "cell_type": "code",
   "execution_count": 27,
   "metadata": {},
   "outputs": [],
   "source": [
    "\"\"\" Simulating time series based on garch formula\"\"\"\n",
    "\n",
    "for _ in range(n):\n",
    "    new_vol = np.sqrt(omega + alpha_1*time_series[-1]**2 + alpha_2*time_series[-2]**2 + beta_1*vol_time_series[-1]**2 + beta_2*vol_time_series[-2]**2)\n",
    "    new_time_series = gauss(0,1) * new_vol\n",
    "    \n",
    "    vol_time_series.append(new_vol)\n",
    "    time_series.append(new_time_series)"
   ]
  },
  {
   "cell_type": "code",
   "execution_count": 25,
   "metadata": {},
   "outputs": [
    {
     "data": {
      "text/plain": [
       "[-1.2552989011160414, -0.7623566397776983]"
      ]
     },
     "execution_count": 25,
     "metadata": {},
     "output_type": "execute_result"
    }
   ],
   "source": [
    "time_series"
   ]
  },
  {
   "cell_type": "code",
   "execution_count": 26,
   "metadata": {},
   "outputs": [
    {
     "data": {
      "text/plain": [
       "[1, 1]"
      ]
     },
     "execution_count": 26,
     "metadata": {},
     "output_type": "execute_result"
    }
   ],
   "source": [
    "vol_time_series"
   ]
  },
  {
   "cell_type": "code",
   "execution_count": null,
   "metadata": {},
   "outputs": [],
   "source": []
  }
 ],
 "metadata": {
  "kernelspec": {
   "display_name": "Python 3",
   "language": "python",
   "name": "python3"
  },
  "language_info": {
   "codemirror_mode": {
    "name": "ipython",
    "version": 3
   },
   "file_extension": ".py",
   "mimetype": "text/x-python",
   "name": "python",
   "nbconvert_exporter": "python",
   "pygments_lexer": "ipython3",
   "version": "3.7.3"
  }
 },
 "nbformat": 4,
 "nbformat_minor": 2
}
